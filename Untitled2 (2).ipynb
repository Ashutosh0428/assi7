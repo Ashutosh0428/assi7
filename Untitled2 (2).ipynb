{
 "cells": [
  {
   "cell_type": "markdown",
   "id": "3f76adb9",
   "metadata": {},
   "source": [
    "# Assignment6"
   ]
  },
  {
   "cell_type": "markdown",
   "id": "7b0f24aa",
   "metadata": {},
   "source": [
    "1.\n",
    "To insert characters that are illegal in a string, use an escape character. An escape character is a backslash \\ followed by the character you want to insert."
   ]
  },
  {
   "cell_type": "code",
   "execution_count": null,
   "id": "214baf32",
   "metadata": {},
   "outputs": [],
   "source": [
    "2.\n",
    "\"\\t\" is a tab, \"\\n\" is a newline"
   ]
  },
  {
   "cell_type": "code",
   "execution_count": null,
   "id": "9e6d7d40",
   "metadata": {},
   "outputs": [],
   "source": [
    "3.\n",
    "the syntax \"\\\\\" within the string literal to represent a single backslash"
   ]
  },
  {
   "cell_type": "markdown",
   "id": "b92142c2",
   "metadata": {},
   "source": [
    "4.\n",
    "In \"Howl's moving castle\" we can't use single quote in it bcoz the interpreter will misunderstood and give error in it"
   ]
  },
  {
   "cell_type": "markdown",
   "id": "ee81ad01",
   "metadata": {},
   "source": [
    "5.\n",
    "use \\n"
   ]
  },
  {
   "cell_type": "markdown",
   "id": "9e8f13e1",
   "metadata": {},
   "source": [
    "6.\n",
    "'Hello, world!'[1] will print 'e'\n",
    "\"Hello, world!\"[0:5] will print 'Hello'\n",
    "\"Hello, world!\"[3:] will print 'lo, world!'\n",
    "\"Hello, world!\"[:5] will print 'Hello'"
   ]
  },
  {
   "cell_type": "markdown",
   "id": "402b6f0d",
   "metadata": {},
   "source": [
    "7.\n",
    "'hello'.upper() will print 'HELLO'\n",
    "'hello'.upper().isupper() print True\n",
    "'hello'.upper().lower() print 'hello'"
   ]
  },
  {
   "cell_type": "code",
   "execution_count": 11,
   "id": "6d7ad467",
   "metadata": {},
   "outputs": [
    {
     "data": {
      "text/plain": [
       "['Remember,', 'remember,', 'the', 'fifth', 'of', 'July.']"
      ]
     },
     "execution_count": 11,
     "metadata": {},
     "output_type": "execute_result"
    }
   ],
   "source": [
    "8.\n",
    "\n",
    "'Remember, remember, the fifth of July.'.split()\n"
   ]
  },
  {
   "cell_type": "code",
   "execution_count": 12,
   "id": "b5a01b51",
   "metadata": {},
   "outputs": [
    {
     "data": {
      "text/plain": [
       "'There-can-only-one.'"
      ]
     },
     "execution_count": 12,
     "metadata": {},
     "output_type": "execute_result"
    }
   ],
   "source": [
    "'-'.join('There can only one.'.split())"
   ]
  },
  {
   "cell_type": "code",
   "execution_count": null,
   "id": "3a82f2f2",
   "metadata": {},
   "outputs": [],
   "source": [
    "9.\n",
    "center( len, fillchr )\n",
    "ljust( len, fillchr )\n",
    "rjust( len, fillchr )"
   ]
  },
  {
   "cell_type": "markdown",
   "id": "23cbdb35",
   "metadata": {},
   "source": [
    "10.\n",
    "To remove whitespace characters from the beginning or from the end of a string only, you use the trimStart() or trimEnd() method."
   ]
  }
 ],
 "metadata": {
  "kernelspec": {
   "display_name": "Python 3 (ipykernel)",
   "language": "python",
   "name": "python3"
  },
  "language_info": {
   "codemirror_mode": {
    "name": "ipython",
    "version": 3
   },
   "file_extension": ".py",
   "mimetype": "text/x-python",
   "name": "python",
   "nbconvert_exporter": "python",
   "pygments_lexer": "ipython3",
   "version": "3.9.7"
  }
 },
 "nbformat": 4,
 "nbformat_minor": 5
}
